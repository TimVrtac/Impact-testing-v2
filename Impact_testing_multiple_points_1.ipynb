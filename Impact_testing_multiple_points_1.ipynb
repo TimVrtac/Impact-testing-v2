{
 "cells": [
  {
   "cell_type": "code",
   "execution_count": 2,
   "id": "fde3373b",
   "metadata": {
    "ExecuteTime": {
     "end_time": "2023-09-06T11:47:31.029113Z",
     "start_time": "2023-09-06T11:47:31.001873Z"
    },
    "execution": {
     "iopub.execute_input": "2023-09-06T11:37:04.133624Z",
     "iopub.status.busy": "2023-09-06T11:37:04.133624Z",
     "iopub.status.idle": "2023-09-06T11:37:04.185877Z",
     "shell.execute_reply": "2023-09-06T11:37:04.185877Z",
     "shell.execute_reply.started": "2023-09-06T11:37:04.133624Z"
    }
   },
   "outputs": [],
   "source": [
    "%load_ext autoreload\n",
    "%autoreload 2"
   ]
  },
  {
   "cell_type": "code",
   "execution_count": 3,
   "id": "df4f4d61",
   "metadata": {
    "ExecuteTime": {
     "end_time": "2023-09-06T11:47:31.422002Z",
     "start_time": "2023-09-06T11:47:31.031179Z"
    },
    "execution": {
     "iopub.execute_input": "2023-09-06T11:37:04.800336Z",
     "iopub.status.busy": "2023-09-06T11:37:04.800336Z",
     "iopub.status.idle": "2023-09-06T11:37:05.655384Z",
     "shell.execute_reply": "2023-09-06T11:37:05.655384Z",
     "shell.execute_reply.started": "2023-09-06T11:37:04.800336Z"
    }
   },
   "outputs": [],
   "source": [
    "import matplotlib.pyplot as plt\n",
    "import numpy as np"
   ]
  },
  {
   "cell_type": "code",
   "execution_count": 4,
   "id": "90b54093",
   "metadata": {
    "ExecuteTime": {
     "end_time": "2023-09-06T11:47:32.042880Z",
     "start_time": "2023-09-06T11:47:31.606006Z"
    },
    "execution": {
     "iopub.execute_input": "2023-09-06T11:38:01.389669Z",
     "iopub.status.busy": "2023-09-06T11:38:01.388366Z",
     "iopub.status.idle": "2023-09-06T11:38:01.532496Z",
     "shell.execute_reply": "2023-09-06T11:38:01.532496Z",
     "shell.execute_reply.started": "2023-09-06T11:38:01.389669Z"
    }
   },
   "outputs": [],
   "source": [
    "from VibTesting import VibTesting"
   ]
  },
  {
   "cell_type": "markdown",
   "id": "4c08822a",
   "metadata": {},
   "source": [
    "### Measurement"
   ]
  },
  {
   "cell_type": "code",
   "execution_count": 5,
   "id": "dd092cb4",
   "metadata": {
    "ExecuteTime": {
     "end_time": "2023-09-06T11:47:33.034492Z",
     "start_time": "2023-09-06T11:47:33.005513Z"
    },
    "execution": {
     "iopub.execute_input": "2023-09-06T11:41:29.003843Z",
     "iopub.status.busy": "2023-09-06T11:41:29.002843Z",
     "iopub.status.idle": "2023-09-06T11:41:29.063320Z",
     "shell.execute_reply": "2023-09-06T11:41:29.063320Z",
     "shell.execute_reply.started": "2023-09-06T11:41:29.003843Z"
    }
   },
   "outputs": [],
   "source": [
    "# List of sensor serial numbers - option 1\n",
    "sensor_list = ['34788','4009', 'LW355978', '371917', 'LW184270']  #  '4009', '4010', 'LW355978', "
   ]
  },
  {
   "cell_type": "code",
   "execution_count": 6,
   "id": "729b1259",
   "metadata": {
    "ExecuteTime": {
     "end_time": "2023-09-06T11:47:34.256390Z",
     "start_time": "2023-09-06T11:47:34.225925Z"
    },
    "execution": {
     "iopub.execute_input": "2023-09-06T11:41:29.657607Z",
     "iopub.status.busy": "2023-09-06T11:41:29.657607Z",
     "iopub.status.idle": "2023-09-06T11:41:29.694112Z",
     "shell.execute_reply": "2023-09-06T11:41:29.694112Z",
     "shell.execute_reply.started": "2023-09-06T11:41:29.657607Z"
    }
   },
   "outputs": [],
   "source": [
    "# dictionary of sensor serial numbers with lists of directions as values - option 2\n",
    "#sensor_list = {'34788':['/'], '4009':['x','z']}"
   ]
  },
  {
   "cell_type": "code",
   "execution_count": 7,
   "id": "d92aa138",
   "metadata": {
    "ExecuteTime": {
     "end_time": "2023-09-06T11:47:35.222691Z",
     "start_time": "2023-09-06T11:47:34.918714Z"
    },
    "execution": {
     "iopub.execute_input": "2023-09-06T11:44:30.764634Z",
     "iopub.status.busy": "2023-09-06T11:44:30.764634Z",
     "iopub.status.idle": "2023-09-06T11:44:30.821273Z",
     "shell.execute_reply": "2023-09-06T11:44:30.821273Z",
     "shell.execute_reply.started": "2023-09-06T11:44:30.764634Z"
    }
   },
   "outputs": [],
   "source": [
    "# Impact testing instance\n",
    "imp_testing = VibTesting(task_name='My_task',\n",
    "                            sensor_xlsx='Merilna oprema_updated.xlsx', sensor_list=sensor_list,\n",
    "                           sampling_rate=51200, samps_per_chn=51200,\n",
    "                           acquisition_time=1, no_impacts=10, trigger_level=5, imp_force_lim=0.03)"
   ]
  },
  {
   "cell_type": "code",
   "execution_count": 8,
   "id": "5a6198fd",
   "metadata": {},
   "outputs": [
    {
     "data": {
      "text/plain": [
       "\" str_dict = {0: 'A', 1: 'B'}\\npoints = [f'{i%18+1}{str_dict[i//18]}' for i in range(36)]\\nprint(points) \""
      ]
     },
     "execution_count": 8,
     "metadata": {},
     "output_type": "execute_result"
    }
   ],
   "source": [
    "\"\"\" str_dict = {0: 'A', 1: 'B'}\n",
    "points = [f'{i%18+1}{str_dict[i//18]}' for i in range(36)]\n",
    "print(points) \"\"\""
   ]
  },
  {
   "cell_type": "code",
   "execution_count": 9,
   "metadata": {},
   "outputs": [],
   "source": [
    "directions = ['x', 'y', 'z']\n",
    "points = [f'{i//3 + 1}{directions[i%3]}' for i in range(21)]\n",
    "#points = [f'{i}_A' for i in points] + [f'{i}_B' for i in points]"
   ]
  },
  {
   "cell_type": "code",
   "execution_count": null,
   "id": "e04ad76c",
   "metadata": {},
   "outputs": [],
   "source": []
  },
  {
   "cell_type": "code",
   "execution_count": 9,
   "metadata": {},
   "outputs": [],
   "source": [
    "points = ['1x_A', '1y_A', '1z_A', '2x_A', '2y_A', '2z_A', '3x_A', '3y_A', '3z_A', '7x_B', '7y_B', '7z_B', '1x_B', '1y_B', '1z_B', '2x_B', '2y_B', '2z_B', '3x_B', '3y_B', '3z_B', '7x_A', '7y_A', '7z_A']\n"
   ]
  },
  {
   "cell_type": "code",
   "execution_count": 10,
   "id": "354ab653",
   "metadata": {},
   "outputs": [
    {
     "data": {
      "text/plain": [
       "['7y_A', '7z_A']"
      ]
     },
     "execution_count": 10,
     "metadata": {},
     "output_type": "execute_result"
    }
   ],
   "source": [
    "points[-2:]"
   ]
  },
  {
   "cell_type": "code",
   "execution_count": 1,
   "id": "8a8aeaea",
   "metadata": {
    "ExecuteTime": {
     "end_time": "2023-09-06T11:48:33.640624Z",
     "start_time": "2023-09-06T11:47:36.816306Z"
    },
    "execution": {
     "iopub.execute_input": "2023-09-06T11:44:33.559990Z",
     "iopub.status.busy": "2023-09-06T11:44:33.559990Z",
     "iopub.status.idle": "2023-09-06T11:45:30.918372Z",
     "shell.execute_reply": "2023-09-06T11:45:30.917858Z",
     "shell.execute_reply.started": "2023-09-06T11:44:33.559990Z"
    },
    "scrolled": false
   },
   "outputs": [
    {
     "ename": "NameError",
     "evalue": "name 'imp_testing' is not defined",
     "output_type": "error",
     "traceback": [
      "\u001b[1;31m---------------------------------------------------------------------------\u001b[0m",
      "\u001b[1;31mNameError\u001b[0m                                 Traceback (most recent call last)",
      "Cell \u001b[1;32mIn[1], line 1\u001b[0m\n\u001b[1;32m----> 1\u001b[0m \u001b[43mimp_testing\u001b[49m\u001b[38;5;241m.\u001b[39mstart_imp_test_series(list_of_points\u001b[38;5;241m=\u001b[39m points[\u001b[38;5;241m-\u001b[39m\u001b[38;5;241m2\u001b[39m:],\n\u001b[0;32m      2\u001b[0m                                   measurement_file\u001b[38;5;241m=\u001b[39m\u001b[38;5;124mr\u001b[39m\u001b[38;5;124m\"\u001b[39m\u001b[38;5;124mC:\u001b[39m\u001b[38;5;124m\\\u001b[39m\u001b[38;5;124mUsers\u001b[39m\u001b[38;5;124m\\\u001b[39m\u001b[38;5;124mtimvr\u001b[39m\u001b[38;5;124m\\\u001b[39m\u001b[38;5;124mOneDrive - Univerza v Ljubljani\u001b[39m\u001b[38;5;124m\\\u001b[39m\u001b[38;5;124mDocuments\u001b[39m\u001b[38;5;124m\\\u001b[39m\u001b[38;5;124mDoktorat\u001b[39m\u001b[38;5;124m\\\u001b[39m\u001b[38;5;124mProjekt_2\u001b[39m\u001b[38;5;124m\\\u001b[39m\u001b[38;5;124mkarakterizacija_kovic\u001b[39m\u001b[38;5;124m\\\u001b[39m\u001b[38;5;124mMeritve\u001b[39m\u001b[38;5;124m\\\u001b[39m\u001b[38;5;124mmertive_4_vijak\u001b[39m\u001b[38;5;124m\\\u001b[39m\u001b[38;5;124mkonf_2\u001b[39m\u001b[38;5;124m\"\u001b[39m)\n",
      "\u001b[1;31mNameError\u001b[0m: name 'imp_testing' is not defined"
     ]
    }
   ],
   "source": [
    "imp_testing.start_imp_test_series(list_of_points= points[-2:],\n",
    "                                  measurement_file=r\"C:\\Users\\timvr\\OneDrive - Univerza v Ljubljani\\Documents\\Doktorat\\Projekt_2\\karakterizacija_kovic\\Meritve\\mertive_4_vijak\\konf_2\")"
   ]
  },
  {
   "cell_type": "code",
   "execution_count": 81,
   "id": "44215e27",
   "metadata": {},
   "outputs": [
    {
     "data": {
      "text/plain": [
       "(10, 13, 51200)"
      ]
     },
     "execution_count": 81,
     "metadata": {},
     "output_type": "execute_result"
    }
   ],
   "source": [
    "imp_testing.measurement_array.shape"
   ]
  },
  {
   "cell_type": "code",
   "execution_count": 13,
   "id": "f8fe9908",
   "metadata": {
    "ExecuteTime": {
     "end_time": "2023-04-26T13:28:52.121197Z",
     "start_time": "2023-04-26T13:28:52.064857Z"
    },
    "execution": {
     "iopub.execute_input": "2023-09-06T11:44:28.354118Z",
     "iopub.status.busy": "2023-09-06T11:44:28.354118Z",
     "iopub.status.idle": "2023-09-06T11:44:28.524782Z",
     "shell.execute_reply": "2023-09-06T11:44:28.524782Z",
     "shell.execute_reply.started": "2023-09-06T11:44:28.354118Z"
    }
   },
   "outputs": [],
   "source": [
    "# close the task\n",
    "imp_testing.close_task()"
   ]
  },
  {
   "cell_type": "code",
   "execution_count": null,
   "metadata": {},
   "outputs": [],
   "source": []
  }
 ],
 "metadata": {
  "kernelspec": {
   "display_name": "Python 3 (ipykernel)",
   "language": "python",
   "name": "python3"
  },
  "language_info": {
   "codemirror_mode": {
    "name": "ipython",
    "version": 3
   },
   "file_extension": ".py",
   "mimetype": "text/x-python",
   "name": "python",
   "nbconvert_exporter": "python",
   "pygments_lexer": "ipython3",
   "version": "3.11.4"
  },
  "toc": {
   "base_numbering": 1,
   "nav_menu": {},
   "number_sections": true,
   "sideBar": true,
   "skip_h1_title": false,
   "title_cell": "Table of Contents",
   "title_sidebar": "Contents",
   "toc_cell": false,
   "toc_position": {},
   "toc_section_display": true,
   "toc_window_display": false
  }
 },
 "nbformat": 4,
 "nbformat_minor": 5
}
