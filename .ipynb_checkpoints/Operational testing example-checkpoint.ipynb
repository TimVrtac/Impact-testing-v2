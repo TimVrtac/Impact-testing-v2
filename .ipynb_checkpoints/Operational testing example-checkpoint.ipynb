{
 "cells": [
  {
   "cell_type": "code",
   "execution_count": null,
   "id": "cd9dd3a3",
   "metadata": {
    "ExecuteTime": {
     "end_time": "2023-05-03T06:48:51.919299Z",
     "start_time": "2023-05-03T06:48:51.876737Z"
    }
   },
   "outputs": [],
   "source": [
    "%load_ext autoreload\n",
    "%autoreload 2"
   ]
  },
  {
   "cell_type": "code",
   "execution_count": null,
   "id": "b2036298",
   "metadata": {
    "ExecuteTime": {
     "end_time": "2023-05-03T06:48:52.935628Z",
     "start_time": "2023-05-03T06:48:51.921079Z"
    }
   },
   "outputs": [],
   "source": [
    "from VibTesting import VibTesting"
   ]
  },
  {
   "cell_type": "markdown",
   "id": "a2a788d6",
   "metadata": {},
   "source": [
    "# Measurement"
   ]
  },
  {
   "cell_type": "code",
   "execution_count": null,
   "id": "a99cf869",
   "metadata": {
    "ExecuteTime": {
     "end_time": "2023-05-03T06:48:40.579691Z",
     "start_time": "2023-05-03T06:48:40.505583Z"
    }
   },
   "outputs": [],
   "source": [
    "# List of sensor serial numbers - option 1\n",
    "sensor_list = ['45250', 'LW312598', 'LW168022', '177269', '1669', 'LW184270', '4010', '4009', 'LW191475']"
   ]
  },
  {
   "cell_type": "code",
   "execution_count": null,
   "id": "fda6c0c7",
   "metadata": {
    "ExecuteTime": {
     "end_time": "2023-05-03T06:47:16.723919Z",
     "start_time": "2023-05-03T06:47:14.753287Z"
    }
   },
   "outputs": [],
   "source": [
    "# Vibrational testing class instance\n",
    "op_testing = VibTesting(task_name='My_task',\n",
    "                            sensor_xlsx='Merilna oprema.xlsx', sensor_list=sensor_list,\n",
    "                           sampling_rate=51200, samps_per_chn=51200,\n",
    "                           acquisition_time=1, no_impacts=3, trigger_level=5)"
   ]
  },
  {
   "cell_type": "code",
   "execution_count": null,
   "id": "d7c8c329",
   "metadata": {
    "ExecuteTime": {
     "end_time": "2023-05-03T07:26:23.771679Z",
     "start_time": "2023-05-03T07:26:12.542884Z"
    }
   },
   "outputs": [],
   "source": [
    "op_testing.start_op_measurement(acq_time=10, sampling_rate=25600, start_w_button=True)"
   ]
  },
  {
   "cell_type": "code",
   "execution_count": null,
   "id": "865d649f",
   "metadata": {},
   "outputs": [],
   "source": [
    "# close the task\n",
    "imp_testing.close_task()"
   ]
  }
 ],
 "metadata": {
  "kernelspec": {
   "display_name": "Python 3 (ipykernel)",
   "language": "python",
   "name": "python3"
  },
  "language_info": {
   "codemirror_mode": {
    "name": "ipython",
    "version": 3
   },
   "file_extension": ".py",
   "mimetype": "text/x-python",
   "name": "python",
   "nbconvert_exporter": "python",
   "pygments_lexer": "ipython3",
   "version": "3.9.7"
  },
  "toc": {
   "base_numbering": 1,
   "nav_menu": {},
   "number_sections": true,
   "sideBar": true,
   "skip_h1_title": false,
   "title_cell": "Table of Contents",
   "title_sidebar": "Contents",
   "toc_cell": false,
   "toc_position": {},
   "toc_section_display": true,
   "toc_window_display": false
  }
 },
 "nbformat": 4,
 "nbformat_minor": 5
}
